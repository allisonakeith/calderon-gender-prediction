{
 "cells": [
  {
   "cell_type": "code",
   "execution_count": null,
   "metadata": {},
   "outputs": [],
   "source": [
    "import pandas as pd\n",
    "import matplotlib.pyplot as plt\n",
    "import numpy as np\n",
    "import ast"
   ]
  },
  {
   "cell_type": "code",
   "execution_count": null,
   "metadata": {},
   "outputs": [],
   "source": [
    "# this file comes from the model pipeline, found in the results folder- file name is based on the model used & params\n",
    "df = pd.read_csv('/calderon-gender-prediction/results/scenes.csv')"
   ]
  },
  {
   "cell_type": "code",
   "execution_count": null,
   "metadata": {},
   "outputs": [],
   "source": [
    "#check the df\n",
    "df.head()"
   ]
  },
  {
   "cell_type": "code",
   "execution_count": null,
   "metadata": {},
   "outputs": [],
   "source": [
    "cross_dressed = ['eugenia', 'claridiana', 'semíramis', 'rosaura', 'lindabridis']"
   ]
  },
  {
   "cell_type": "code",
   "execution_count": null,
   "metadata": {},
   "outputs": [],
   "source": [
    "is_cross_dressed = df[df['character_id'].isin(cross_dressed)]\n",
    "is_cross_dressed\n",
    "is_cross_dressed = is_cross_dressed[['is_male','predictions','scene_num','id','character_id','words_spoken','scenes_y','probabilities']]\n",
    "\n",
    "#save this for later\n",
    "is_cross_dressed.to_csv('/calderon-gender-prediction/results/scenes_cross_dressed.csv')"
   ]
  },
  {
   "cell_type": "code",
   "execution_count": null,
   "metadata": {},
   "outputs": [],
   "source": [
    "is_cross_dressed = pd.read_csv('/calderon-gender-prediction/results/scenes_cross_dressed.csv')"
   ]
  },
  {
   "cell_type": "code",
   "execution_count": null,
   "metadata": {},
   "outputs": [],
   "source": [
    "is_cross_dressed['scene_num'] = is_cross_dressed['scene_num'].apply(lambda x: ast.literal_eval(str(x).replace('dict_keys', ''))[0] if 'dict_keys' in str(x) else x)"
   ]
  },
  {
   "cell_type": "code",
   "execution_count": null,
   "metadata": {},
   "outputs": [],
   "source": [
    "#check if the scene numbers are in the right format\n",
    "is_cross_dressed['scene_num']"
   ]
  },
  {
   "cell_type": "code",
   "execution_count": null,
   "metadata": {},
   "outputs": [],
   "source": [
    "def create_horizontal_line_plot(df, play_id, character_id):\n",
    "    # Create a figure and axis\n",
    "    fig, ax = plt.subplots(figsize=(12, 2))\n",
    "\n",
    "    # Create a horizontal line\n",
    "    ax.axhline(y=0, color='black', linewidth=2)\n",
    "\n",
    "    # Set the number of ticks based on the DataFrame length\n",
    "    num_ticks = len(df)\n",
    "    ax.set_xticks(np.linspace(0, 1, num_ticks))\n",
    "\n",
    "    # Label the ticks with scene_num\n",
    "    ax.set_xticklabels(df['scene_num'], rotation=45, ha='right')\n",
    "\n",
    "    # Remove y-axis ticks and labels\n",
    "    ax.set_yticks([])\n",
    "\n",
    "    # Remove the top and right spines\n",
    "    ax.spines['top'].set_visible(False)\n",
    "    ax.spines['right'].set_visible(False)\n",
    "    ax.spines['left'].set_visible(False)\n",
    "\n",
    "    # Set the x-axis limits\n",
    "    ax.set_xlim(0, 1)\n",
    "\n",
    "    # Color the ticks based on is_male and predictions\n",
    "    for i, (is_male, prediction) in enumerate(zip(df['is_male'], df['predictions'])):\n",
    "        color = 'green' if is_male == prediction else 'red'\n",
    "        ax.get_xticklabels()[i].set_color(color)\n",
    "\n",
    "    # # Add id and character_id as text annotations\n",
    "    # for i, (play_id, character_id) in enumerate(zip(df['id'], df['character_id'])):\n",
    "    #     ax.text(i/(num_ticks-1), -0.1, f'ID: {play_id}\\nChar: {character_id}', \n",
    "    #             ha='center', va='top', rotation=90, fontsize=8)\n",
    "\n",
    "\n",
    "    # Set title\n",
    "    plt.title(play_id + ': '+character_id)\n",
    "\n",
    "    # Adjust layout to prevent clipping of tick-labels\n",
    "    plt.tight_layout()\n",
    "\n",
    "    # Show the plot\n",
    "    plt.show()\n",
    "\n",
    "# Example usage:\n",
    "# Assuming you have a DataFrame 'df' with the required columns\n",
    "df = pd.DataFrame({\n",
    "    'scene_num': [1, 2, 3, 4, 5],\n",
    "    'id': ['A1', 'B2', 'C3', 'D4', 'E5'],\n",
    "    'character_id': ['Char1', 'Char2', 'Char3', 'Char4', 'Char5'],\n",
    "    'is_male': [True, False, True, False, True],\n",
    "    'predictions': [True, False, False, False, True]\n",
    "})\n",
    "\n",
    "create_horizontal_line_plot(df, 'Play Title', 'Character Name')"
   ]
  }
 ],
 "metadata": {
  "language_info": {
   "name": "python"
  },
  "orig_nbformat": 4
 },
 "nbformat": 4,
 "nbformat_minor": 2
}
