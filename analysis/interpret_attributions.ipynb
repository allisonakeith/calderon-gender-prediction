{
 "cells": [
  {
   "cell_type": "code",
   "execution_count": null,
   "metadata": {},
   "outputs": [],
   "source": [
    "import pandas as pd\n",
    "from visualize import plot_words_with_colors\n",
    "import ast"
   ]
  },
  {
   "cell_type": "code",
   "execution_count": null,
   "metadata": {},
   "outputs": [],
   "source": [
    "df = pd.read_csv('/calderon-gender-prediction/results/scenes_word_attributions.csv')\n",
    "df.head()"
   ]
  },
  {
   "cell_type": "markdown",
   "metadata": {},
   "source": [
    "I want to zip the dataframe containting the play / character information with the attributions dataframe."
   ]
  },
  {
   "cell_type": "code",
   "execution_count": null,
   "metadata": {},
   "outputs": [],
   "source": [
    "scenes_df = pd.read_csv('/calderon-gender-prediction/results/scenes_bert-base-spanish_1e-05_32_7.csv')\n",
    "scenes_df.head()"
   ]
  },
  {
   "cell_type": "code",
   "execution_count": null,
   "metadata": {},
   "outputs": [],
   "source": [
    "#zip the two dataframes together\n",
    "new_df = pd.concat([scenes_df, df], axis=1)\n",
    "new_df.head()"
   ]
  },
  {
   "cell_type": "code",
   "execution_count": null,
   "metadata": {},
   "outputs": [],
   "source": [
    "masked_scenes_attributions = pd.read_csv('/calderon-gender-prediction/results/scenes_word_attributions.csv')\n",
    "masked_scenes_predictions = pd.read_csv('/calderon-gender-prediction/results/scenes_bert-base-spanish_1e-05_32_7.csv')\n",
    "\n",
    "masked_scenes_df = pd.concat([masked_scenes_predictions, masked_scenes_attributions], axis=1)"
   ]
  },
  {
   "attachments": {},
   "cell_type": "markdown",
   "metadata": {},
   "source": [
    "# 1. Find the most positive and most negative **tokens** based on their attributions"
   ]
  },
  {
   "cell_type": "code",
   "execution_count": null,
   "metadata": {},
   "outputs": [],
   "source": [
    "masked_tokens = pd.read_csv('/calderon-gender-prediction/results/tokens_bert-base-spanish_1e-05_24_5.csv')\n",
    "masked_tokens_attributions = pd.read_csv('/calderon-gender-prediction/results/tokens_word_attributions.csv')\n",
    "\n",
    "masked_df = pd.concat([masked_tokens, masked_tokens_attributions], axis=1)\n",
    "masked_df.head()"
   ]
  },
  {
   "cell_type": "code",
   "execution_count": null,
   "metadata": {},
   "outputs": [],
   "source": [
    "attributions = get_word_attributions(masked_tokens_attributions)"
   ]
  },
  {
   "cell_type": "code",
   "execution_count": null,
   "metadata": {},
   "outputs": [],
   "source": [
    "#get average attribution value for each word\n",
    "word_attributions_dict = {}\n",
    "word_counts = {}\n",
    "for word, attribution in attributions:\n",
    "    if word in word_attributions_dict:\n",
    "        word_attributions_dict[word] += attribution\n",
    "        word_counts[word] += 1\n",
    "    else:\n",
    "        word_attributions_dict[word] = attribution\n",
    "        word_counts[word] = 1\n",
    "\n",
    "word_attributions_avg = {word: word_attributions_dict[word] / word_counts[word] for word in word_attributions_dict}\n",
    "\n",
    "#sort the words by average attribution value\n",
    "word_attributions_avg = {k: v for k, v in sorted(word_attributions_avg.items(), key=lambda item: item[1])}\n",
    "\n",
    "\n",
    "print('Top 20 most negative average attributions:')\n",
    "fem_words = list(word_attributions_avg.items())[:40]\n",
    "# fem_words\n",
    "\n",
    "print('Top 20 most positive average attributions:')\n",
    "masc_words = list(word_attributions_avg.items())[-40:]\n",
    "# masc_words"
   ]
  },
  {
   "cell_type": "code",
   "execution_count": null,
   "metadata": {},
   "outputs": [],
   "source": [
    "fem_words"
   ]
  },
  {
   "cell_type": "code",
   "execution_count": null,
   "metadata": {},
   "outputs": [],
   "source": [
    "masc_words"
   ]
  },
  {
   "attachments": {},
   "cell_type": "markdown",
   "metadata": {},
   "source": [
    "I want to find every instance of a polarized word that has been run through the interpretor model. I'll do it by looking at the attributions, so, I'll take a word attribution pair, and find it in the column all_attributions, then run that column through my visualization function"
   ]
  },
  {
   "cell_type": "code",
   "execution_count": null,
   "metadata": {},
   "outputs": [],
   "source": [
    "df = pd.read_csv('/calderon-gender-prediction/results/masked_tokens_df.csv')"
   ]
  },
  {
   "cell_type": "code",
   "execution_count": null,
   "metadata": {},
   "outputs": [],
   "source": [
    "def findcontext(attribution, df):\n",
    "    for index, row in df.iterrows():\n",
    "        #read the column all_attributions and convert it to a list\n",
    "        attributions = ast.literal_eval(row['all_attributions'])\n",
    "        attributions = attributions[1:-1]\n",
    "        attribtions = [ast.literal_eval(x) for x in attributions]\n",
    "        tuples_list = [ast.literal_eval(item) for item in attributions]\n",
    "\n",
    "        \n",
    "        if any(attribution[0] == x[0] for x in tuples_list):\n",
    "            print(row['character_id'], row['id'],row['is_male'], row['predictions'], row['probabilities'])\n",
    "            plot_words_with_colors(tuples_list)"
   ]
  },
  {
   "cell_type": "code",
   "execution_count": null,
   "metadata": {},
   "outputs": [],
   "source": [
    "for attribution in fem_words:\n",
    "    print(attribution[0])\n",
    "\n",
    "    plot = findcontext(attribution, df)"
   ]
  }
 ],
 "metadata": {
  "language_info": {
   "name": "python"
  },
  "orig_nbformat": 4
 },
 "nbformat": 4,
 "nbformat_minor": 2
}
